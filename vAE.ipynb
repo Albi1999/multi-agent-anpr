{
 "cells": [
  {
   "cell_type": "markdown",
   "metadata": {},
   "source": [
    "# Some considerations\n",
    "\n",
    "- Neural Inpainting : on actual license plates, its probable that due to noise/perspective etc. , when we extract single characters, parts of the characters will be missing. We could try to have a neural inpainting type of model, where we hide parts of the characters in the synthetic dataset and train the model to reconstruct these\n",
    "\n"
   ]
  },
  {
   "cell_type": "markdown",
   "metadata": {},
   "source": [
    "- In this code, I will consider a variational AE that should reconstruct the actual characters based on corrupted/noisy/partial characters"
   ]
  }
 ],
 "metadata": {
  "kernelspec": {
   "display_name": "vs_project_ve",
   "language": "python",
   "name": "python3"
  },
  "language_info": {
   "name": "python",
   "version": "3.9.21"
  }
 },
 "nbformat": 4,
 "nbformat_minor": 2
}
