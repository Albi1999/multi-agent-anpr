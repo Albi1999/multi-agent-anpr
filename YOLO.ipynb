{
 "cells": [
  {
   "cell_type": "code",
   "execution_count": null,
   "metadata": {},
   "outputs": [],
   "source": [
    "import os\n",
    "import yolov5\n",
    "import cv2\n",
    "import matplotlib.pyplot as plt\n",
    "import nbimporter\n",
    "import numpy as np\n",
    "from image_cropping import *\n",
    "import pygame"
   ]
  },
  {
   "cell_type": "code",
   "execution_count": null,
   "metadata": {},
   "outputs": [],
   "source": [
    "SAMPLE_ID = 4\n",
    "IMAGE_PATH = f'data/images/plate.{SAMPLE_ID}.png'\n",
    "\n",
    "#Albi1999/VCS_Project/data/images/plate.1.png\n",
    "#data/images/plate.1.png"
   ]
  },
  {
   "cell_type": "code",
   "execution_count": null,
   "metadata": {},
   "outputs": [],
   "source": [
    "# Load model\n",
    "model = yolov5.load('keremberke/yolov5m-license-plate')\n",
    "  \n",
    "# Set model parameters\n",
    "model.conf = 0.10  # NMS confidence threshold\n",
    "model.iou = 0.45  # NMS IoU threshold\n",
    "model.agnostic = False  # NMS class-agnostic\n",
    "model.multi_label = False  # NMS multiple labels per box\n",
    "model.max_det = 1000  # maximum number of detections per image"
   ]
  },
  {
   "cell_type": "code",
   "execution_count": null,
   "metadata": {},
   "outputs": [],
   "source": [
    "# Perform inference with test-time augmentation\n",
    "results = model(IMAGE_PATH, augment=True)\n",
    "\n",
    "# Parse results\n",
    "predictions = results.pred[0]\n",
    "boxes = predictions[:, :4]  # x1, y1, x2, y2\n",
    "scores = predictions[:, 4]\n",
    "categories = predictions[:, 5]\n",
    "\n",
    "# Load the image\n",
    "image = cv2.imread(IMAGE_PATH)\n",
    "if image is None:\n",
    "    raise ValueError(f\"Image not found at path: {IMAGE_PATH}\")\n",
    "image = image.copy()  # Ensure it's writable\n",
    "\n",
    "# Draw bounding boxes on the image\n",
    "for box, score, category in zip(boxes, scores, categories):\n",
    "    x1, y1, x2, y2 = map(int, box)\n",
    "    label = f\"ID {int(category)}: {score:.2f}\"\n",
    "    cv2.rectangle(image, (x1, y1), (x2, y2), (0, 255, 0), 2)\n",
    "    cv2.putText(image, label, (x1, y1 - 10), cv2.FONT_HERSHEY_SIMPLEX, 0.5, (0, 255, 0), 2)"
   ]
  },
  {
   "cell_type": "code",
   "execution_count": null,
   "metadata": {},
   "outputs": [],
   "source": [
    "%matplotlib inline\n",
    "\n",
    "license_plate_detected = len(boxes) > 0\n",
    "\n",
    "if not license_plate_detected:\n",
    "    print(\"No license plates found, the image needs manual inspection\")\n",
    "    os.makedirs('results/FOR_MANUAL_INSPECTION', exist_ok=True)\n",
    "    output_path = f'results/FOR_MANUAL_INSPECTION/predictions.{SAMPLE_ID}.png'\n",
    "    cv2.imwrite(output_path, image)\n",
    "    print(\"-\"*80)\n",
    "    print(f\"Saved manually drawn predictions to {output_path}\")\n",
    "else:\n",
    "    print(f\"Found {len(boxes)} license plates in the image\")\n",
    "    os.makedirs('results/predictions', exist_ok=True)\n",
    "    output_path = f'results/predictions/predictions.{SAMPLE_ID}.png'\n",
    "    cv2.imwrite(output_path, image)\n",
    "    print(\"-\"*80)\n",
    "    print(f\"Saved manually drawn predictions to {output_path}\")\n",
    "\n",
    "\n",
    "# Display the image using Matplotlib\n",
    "plt.figure(figsize=(10, 8))\n",
    "plt.imshow(cv2.cvtColor(image, cv2.COLOR_BGR2RGB))\n",
    "plt.axis('off')\n",
    "plt.show()"
   ]
  },
  {
   "cell_type": "code",
   "execution_count": null,
   "metadata": {},
   "outputs": [],
   "source": [
    "%matplotlib inline\n",
    "\n",
    "if license_plate_detected:    \n",
    "    # Load the image and show the cropped license plate\n",
    "    image = cv2.imread(IMAGE_PATH)\n",
    "    license_plate = image[int(boxes[0][1]):int(boxes[0][3]), int(boxes[0][0]):int(boxes[0][2])]\n",
    "\n",
    "    # Create a new folder \"results/license_plates\" if it does not exist\n",
    "    if not os.path.exists('results/license_plates'):\n",
    "        os.makedirs('results/license_plates')\n",
    "        \n",
    "    # Save the cropped license plate to \"results/license_plates\" folder\n",
    "    cv2.imwrite(f'results/license_plates/license_plate.{SAMPLE_ID}.png', license_plate)\n",
    "    print(\"-\"*75)\n",
    "    print(f\"Saved cropped license plate to results/license_plates/license_plate.{SAMPLE_ID}.png\")\n",
    "\n",
    "    # Display the cropped license plate\n",
    "    plt.imshow(cv2.cvtColor(license_plate, cv2.COLOR_BGR2RGB))\n",
    "    plt.axis('off')\n",
    "    plt.show()\n",
    "else:\n",
    "    screen, px = setup(IMAGE_PATH)\n",
    "    left, upper, right, lower = mainLoop(screen, px)\n",
    "\n",
    "    # ensure output rect always has positive width, height\n",
    "    if right < left:\n",
    "        left, right = right, left\n",
    "    if lower < upper:\n",
    "        lower, upper = upper, lower\n",
    "    im = Image.open(IMAGE_PATH)\n",
    "    im = im.crop(( left, upper, right, lower))\n",
    "    pygame.display.quit()\n",
    "    im.save(f'results/license_plates/license_plate.{SAMPLE_ID}.png')\n",
    "    print(\"-\"*75)\n",
    "    print(f\"Saved cropped license plate to results/license_plates/license_plate.{SAMPLE_ID}.png\")\n",
    "    \n",
    "    plt.imshow(cv2.cvtColor(np.array(im), cv2.COLOR_BGR2RGB))\n",
    "    plt.axis('off')\n",
    "    plt.show()"
   ]
  }
 ],
 "metadata": {
  "kernelspec": {
   "display_name": "Python 3",
   "language": "python",
   "name": "python3"
  },
  "language_info": {
   "codemirror_mode": {
    "name": "ipython",
    "version": 3
   },
   "file_extension": ".py",
   "mimetype": "text/x-python",
   "name": "python",
   "nbconvert_exporter": "python",
   "pygments_lexer": "ipython3",
   "version": "3.9.6"
  }
 },
 "nbformat": 4,
 "nbformat_minor": 2
}
