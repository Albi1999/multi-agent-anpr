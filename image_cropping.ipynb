{
 "cells": [
  {
   "cell_type": "code",
   "execution_count": 1,
   "metadata": {},
   "outputs": [
    {
     "name": "stdout",
     "output_type": "stream",
     "text": [
      "pygame 2.6.1 (SDL 2.28.4, Python 3.9.6)\n",
      "Hello from the pygame community. https://www.pygame.org/contribute.html\n"
     ]
    }
   ],
   "source": [
    "import pygame, sys\n",
    "from PIL import Image\n",
    "pygame.init()\n",
    "\n",
    "def displayImage(screen, px, topleft, prior):\n",
    "    # ensure that the rect always has positive width, height\n",
    "    x, y = topleft\n",
    "    width =  pygame.mouse.get_pos()[0] - topleft[0]\n",
    "    height = pygame.mouse.get_pos()[1] - topleft[1]\n",
    "    if width < 0:\n",
    "        x += width\n",
    "        width = abs(width)\n",
    "    if height < 0:\n",
    "        y += height\n",
    "        height = abs(height)\n",
    "\n",
    "    # eliminate redundant drawing cycles (when mouse isn't moving)\n",
    "    current = x, y, width, height\n",
    "    if not (width and height):\n",
    "        return current\n",
    "    if current == prior:\n",
    "        return current\n",
    "\n",
    "    # draw transparent box and blit it onto canvas\n",
    "    screen.blit(px, px.get_rect())\n",
    "    im = pygame.Surface((width, height))\n",
    "    im.fill((128, 128, 128))\n",
    "    pygame.draw.rect(im, (32, 32, 32), im.get_rect(), 1)\n",
    "    im.set_alpha(128)\n",
    "    screen.blit(im, (x, y))\n",
    "    pygame.display.flip()\n",
    "\n",
    "    # return current box extents\n",
    "    return (x, y, width, height)"
   ]
  },
  {
   "cell_type": "code",
   "execution_count": 2,
   "metadata": {},
   "outputs": [],
   "source": [
    "def setup(path):\n",
    "    px = pygame.image.load(path)\n",
    "    screen = pygame.display.set_mode( px.get_rect()[2:] )\n",
    "    screen.blit(px, px.get_rect())\n",
    "    pygame.display.flip()\n",
    "    return screen, px\n",
    "\n",
    "def mainLoop(screen, px):\n",
    "    topleft = bottomright = prior = None\n",
    "    n=0\n",
    "    while n!=1:\n",
    "        for event in pygame.event.get():\n",
    "            if event.type == pygame.MOUSEBUTTONUP:\n",
    "                if not topleft:\n",
    "                    topleft = event.pos\n",
    "                else:\n",
    "                    bottomright = event.pos\n",
    "                    n=1\n",
    "        if topleft:\n",
    "            prior = displayImage(screen, px, topleft, prior)\n",
    "    return ( topleft + bottomright )"
   ]
  }
 ],
 "metadata": {
  "kernelspec": {
   "display_name": "Python 3",
   "language": "python",
   "name": "python3"
  },
  "language_info": {
   "codemirror_mode": {
    "name": "ipython",
    "version": 3
   },
   "file_extension": ".py",
   "mimetype": "text/x-python",
   "name": "python",
   "nbconvert_exporter": "python",
   "pygments_lexer": "ipython3",
   "version": "3.9.6"
  }
 },
 "nbformat": 4,
 "nbformat_minor": 2
}
