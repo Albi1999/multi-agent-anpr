{
 "cells": [
  {
   "cell_type": "code",
   "execution_count": 1,
   "metadata": {},
   "outputs": [],
   "source": [
    "import ollama"
   ]
  },
  {
   "cell_type": "code",
   "execution_count": 2,
   "metadata": {},
   "outputs": [],
   "source": [
    "SAMPLE_ID = 1\n",
    "IMAGE_PATH = f'results/license_plates/license_plate.{SAMPLE_ID}.png'\n",
    "CONTEXT_PROMPT = 'The image is a car plate photo. '\n",
    "OUTPUT_PROMPT = 'The output should be the car plate. '\n",
    "FORMAT_PROMPT = 'Output should be in this format - <Number of Car Plate> - Do not output anything else'"
   ]
  },
  {
   "cell_type": "code",
   "execution_count": 3,
   "metadata": {},
   "outputs": [
    {
     "name": "stdout",
     "output_type": "stream",
     "text": [
      "SN66 XMZ\n"
     ]
    }
   ],
   "source": [
    "# Use Ollama to clean and structure the OCR output\n",
    "response = ollama.chat(\n",
    "    model=\"llama3.2-vision\",\n",
    "    messages=[{\n",
    "      \"role\": \"user\",\n",
    "      \"content\": CONTEXT_PROMPT + OUTPUT_PROMPT + FORMAT_PROMPT,\n",
    "      \"images\": [IMAGE_PATH]\n",
    "    }],\n",
    ")\n",
    "# Extract cleaned text\n",
    "cleaned_text = response['message']['content'].strip()\n",
    "print(cleaned_text)"
   ]
  }
 ],
 "metadata": {
  "kernelspec": {
   "display_name": "Python 3",
   "language": "python",
   "name": "python3"
  },
  "language_info": {
   "codemirror_mode": {
    "name": "ipython",
    "version": 3
   },
   "file_extension": ".py",
   "mimetype": "text/x-python",
   "name": "python",
   "nbconvert_exporter": "python",
   "pygments_lexer": "ipython3",
   "version": "3.9.6"
  }
 },
 "nbformat": 4,
 "nbformat_minor": 2
}
