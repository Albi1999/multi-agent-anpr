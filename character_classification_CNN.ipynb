{
 "cells": [
  {
   "cell_type": "code",
   "execution_count": 15,
   "metadata": {},
   "outputs": [
    {
     "name": "stdout",
     "output_type": "stream",
     "text": [
      "Requirement already satisfied: pandas in /Users/marlon/Desktop/sem/vs/vs_proj/vs_project_ve/lib/python3.9/site-packages (2.2.3)\n",
      "Requirement already satisfied: numpy>=1.22.4 in /Users/marlon/Desktop/sem/vs/vs_proj/vs_project_ve/lib/python3.9/site-packages (from pandas) (1.26.4)\n",
      "Requirement already satisfied: python-dateutil>=2.8.2 in /Users/marlon/Desktop/sem/vs/vs_proj/vs_project_ve/lib/python3.9/site-packages (from pandas) (2.9.0.post0)\n",
      "Requirement already satisfied: pytz>=2020.1 in /Users/marlon/Desktop/sem/vs/vs_proj/vs_project_ve/lib/python3.9/site-packages (from pandas) (2024.2)\n",
      "Requirement already satisfied: tzdata>=2022.7 in /Users/marlon/Desktop/sem/vs/vs_proj/vs_project_ve/lib/python3.9/site-packages (from pandas) (2024.2)\n",
      "Requirement already satisfied: six>=1.5 in /Users/marlon/Desktop/sem/vs/vs_proj/vs_project_ve/lib/python3.9/site-packages (from python-dateutil>=2.8.2->pandas) (1.17.0)\n",
      "Requirement already satisfied: torch in /Users/marlon/Desktop/sem/vs/vs_proj/vs_project_ve/lib/python3.9/site-packages (2.5.1)\n",
      "Requirement already satisfied: filelock in /Users/marlon/Desktop/sem/vs/vs_proj/vs_project_ve/lib/python3.9/site-packages (from torch) (3.16.1)\n",
      "Requirement already satisfied: typing-extensions>=4.8.0 in /Users/marlon/Desktop/sem/vs/vs_proj/vs_project_ve/lib/python3.9/site-packages (from torch) (4.12.2)\n",
      "Requirement already satisfied: networkx in /Users/marlon/Desktop/sem/vs/vs_proj/vs_project_ve/lib/python3.9/site-packages (from torch) (3.2.1)\n",
      "Requirement already satisfied: jinja2 in /Users/marlon/Desktop/sem/vs/vs_proj/vs_project_ve/lib/python3.9/site-packages (from torch) (3.1.5)\n",
      "Requirement already satisfied: fsspec in /Users/marlon/Desktop/sem/vs/vs_proj/vs_project_ve/lib/python3.9/site-packages (from torch) (2024.12.0)\n",
      "Requirement already satisfied: sympy==1.13.1 in /Users/marlon/Desktop/sem/vs/vs_proj/vs_project_ve/lib/python3.9/site-packages (from torch) (1.13.1)\n",
      "Requirement already satisfied: mpmath<1.4,>=1.1.0 in /Users/marlon/Desktop/sem/vs/vs_proj/vs_project_ve/lib/python3.9/site-packages (from sympy==1.13.1->torch) (1.3.0)\n",
      "Requirement already satisfied: MarkupSafe>=2.0 in /Users/marlon/Desktop/sem/vs/vs_proj/vs_project_ve/lib/python3.9/site-packages (from jinja2->torch) (3.0.2)\n",
      "Requirement already satisfied: torchvision in /Users/marlon/Desktop/sem/vs/vs_proj/vs_project_ve/lib/python3.9/site-packages (0.20.1)\n",
      "Requirement already satisfied: numpy in /Users/marlon/Desktop/sem/vs/vs_proj/vs_project_ve/lib/python3.9/site-packages (from torchvision) (1.26.4)\n",
      "Requirement already satisfied: torch==2.5.1 in /Users/marlon/Desktop/sem/vs/vs_proj/vs_project_ve/lib/python3.9/site-packages (from torchvision) (2.5.1)\n",
      "Requirement already satisfied: pillow!=8.3.*,>=5.3.0 in /Users/marlon/Desktop/sem/vs/vs_proj/vs_project_ve/lib/python3.9/site-packages (from torchvision) (11.1.0)\n",
      "Requirement already satisfied: filelock in /Users/marlon/Desktop/sem/vs/vs_proj/vs_project_ve/lib/python3.9/site-packages (from torch==2.5.1->torchvision) (3.16.1)\n",
      "Requirement already satisfied: typing-extensions>=4.8.0 in /Users/marlon/Desktop/sem/vs/vs_proj/vs_project_ve/lib/python3.9/site-packages (from torch==2.5.1->torchvision) (4.12.2)\n",
      "Requirement already satisfied: networkx in /Users/marlon/Desktop/sem/vs/vs_proj/vs_project_ve/lib/python3.9/site-packages (from torch==2.5.1->torchvision) (3.2.1)\n",
      "Requirement already satisfied: jinja2 in /Users/marlon/Desktop/sem/vs/vs_proj/vs_project_ve/lib/python3.9/site-packages (from torch==2.5.1->torchvision) (3.1.5)\n",
      "Requirement already satisfied: fsspec in /Users/marlon/Desktop/sem/vs/vs_proj/vs_project_ve/lib/python3.9/site-packages (from torch==2.5.1->torchvision) (2024.12.0)\n",
      "Requirement already satisfied: sympy==1.13.1 in /Users/marlon/Desktop/sem/vs/vs_proj/vs_project_ve/lib/python3.9/site-packages (from torch==2.5.1->torchvision) (1.13.1)\n",
      "Requirement already satisfied: mpmath<1.4,>=1.1.0 in /Users/marlon/Desktop/sem/vs/vs_proj/vs_project_ve/lib/python3.9/site-packages (from sympy==1.13.1->torch==2.5.1->torchvision) (1.3.0)\n",
      "Requirement already satisfied: MarkupSafe>=2.0 in /Users/marlon/Desktop/sem/vs/vs_proj/vs_project_ve/lib/python3.9/site-packages (from jinja2->torch==2.5.1->torchvision) (3.0.2)\n",
      "Collecting scikit-learn\n",
      "  Downloading scikit_learn-1.6.1-cp39-cp39-macosx_12_0_arm64.whl.metadata (31 kB)\n",
      "Requirement already satisfied: numpy>=1.19.5 in /Users/marlon/Desktop/sem/vs/vs_proj/vs_project_ve/lib/python3.9/site-packages (from scikit-learn) (1.26.4)\n",
      "Collecting scipy>=1.6.0 (from scikit-learn)\n",
      "  Using cached scipy-1.13.1-cp39-cp39-macosx_12_0_arm64.whl.metadata (60 kB)\n",
      "Collecting joblib>=1.2.0 (from scikit-learn)\n",
      "  Using cached joblib-1.4.2-py3-none-any.whl.metadata (5.4 kB)\n",
      "Collecting threadpoolctl>=3.1.0 (from scikit-learn)\n",
      "  Using cached threadpoolctl-3.5.0-py3-none-any.whl.metadata (13 kB)\n",
      "Downloading scikit_learn-1.6.1-cp39-cp39-macosx_12_0_arm64.whl (11.1 MB)\n",
      "\u001b[2K   \u001b[90m━━━━━━━━━━━━━━━━━━━━━━━━━━━━━━━━━━━━━━━━\u001b[0m \u001b[32m11.1/11.1 MB\u001b[0m \u001b[31m60.2 MB/s\u001b[0m eta \u001b[36m0:00:00\u001b[0m00:01\u001b[0m\n",
      "\u001b[?25hUsing cached joblib-1.4.2-py3-none-any.whl (301 kB)\n",
      "Using cached scipy-1.13.1-cp39-cp39-macosx_12_0_arm64.whl (30.3 MB)\n",
      "Using cached threadpoolctl-3.5.0-py3-none-any.whl (18 kB)\n",
      "Installing collected packages: threadpoolctl, scipy, joblib, scikit-learn\n",
      "Successfully installed joblib-1.4.2 scikit-learn-1.6.1 scipy-1.13.1 threadpoolctl-3.5.0\n",
      "Collecting matplotlib\n",
      "  Using cached matplotlib-3.9.4-cp39-cp39-macosx_11_0_arm64.whl.metadata (11 kB)\n",
      "Collecting contourpy>=1.0.1 (from matplotlib)\n",
      "  Using cached contourpy-1.3.0-cp39-cp39-macosx_11_0_arm64.whl.metadata (5.4 kB)\n",
      "Collecting cycler>=0.10 (from matplotlib)\n",
      "  Using cached cycler-0.12.1-py3-none-any.whl.metadata (3.8 kB)\n",
      "Collecting fonttools>=4.22.0 (from matplotlib)\n",
      "  Using cached fonttools-4.55.3-cp39-cp39-macosx_10_9_universal2.whl.metadata (165 kB)\n",
      "Collecting kiwisolver>=1.3.1 (from matplotlib)\n",
      "  Using cached kiwisolver-1.4.7-cp39-cp39-macosx_11_0_arm64.whl.metadata (6.3 kB)\n",
      "Requirement already satisfied: numpy>=1.23 in /Users/marlon/Desktop/sem/vs/vs_proj/vs_project_ve/lib/python3.9/site-packages (from matplotlib) (1.26.4)\n",
      "Requirement already satisfied: packaging>=20.0 in /Users/marlon/Desktop/sem/vs/vs_proj/vs_project_ve/lib/python3.9/site-packages (from matplotlib) (24.2)\n",
      "Requirement already satisfied: pillow>=8 in /Users/marlon/Desktop/sem/vs/vs_proj/vs_project_ve/lib/python3.9/site-packages (from matplotlib) (11.1.0)\n",
      "Collecting pyparsing>=2.3.1 (from matplotlib)\n",
      "  Using cached pyparsing-3.2.1-py3-none-any.whl.metadata (5.0 kB)\n",
      "Requirement already satisfied: python-dateutil>=2.7 in /Users/marlon/Desktop/sem/vs/vs_proj/vs_project_ve/lib/python3.9/site-packages (from matplotlib) (2.9.0.post0)\n",
      "Collecting importlib-resources>=3.2.0 (from matplotlib)\n",
      "  Using cached importlib_resources-6.5.2-py3-none-any.whl.metadata (3.9 kB)\n",
      "Requirement already satisfied: zipp>=3.1.0 in /Users/marlon/Desktop/sem/vs/vs_proj/vs_project_ve/lib/python3.9/site-packages (from importlib-resources>=3.2.0->matplotlib) (3.21.0)\n",
      "Requirement already satisfied: six>=1.5 in /Users/marlon/Desktop/sem/vs/vs_proj/vs_project_ve/lib/python3.9/site-packages (from python-dateutil>=2.7->matplotlib) (1.17.0)\n",
      "Using cached matplotlib-3.9.4-cp39-cp39-macosx_11_0_arm64.whl (7.8 MB)\n",
      "Using cached contourpy-1.3.0-cp39-cp39-macosx_11_0_arm64.whl (249 kB)\n",
      "Using cached cycler-0.12.1-py3-none-any.whl (8.3 kB)\n",
      "Using cached fonttools-4.55.3-cp39-cp39-macosx_10_9_universal2.whl (2.8 MB)\n",
      "Using cached importlib_resources-6.5.2-py3-none-any.whl (37 kB)\n",
      "Using cached kiwisolver-1.4.7-cp39-cp39-macosx_11_0_arm64.whl (64 kB)\n",
      "Using cached pyparsing-3.2.1-py3-none-any.whl (107 kB)\n",
      "Installing collected packages: pyparsing, kiwisolver, importlib-resources, fonttools, cycler, contourpy, matplotlib\n",
      "Successfully installed contourpy-1.3.0 cycler-0.12.1 fonttools-4.55.3 importlib-resources-6.5.2 kiwisolver-1.4.7 matplotlib-3.9.4 pyparsing-3.2.1\n"
     ]
    }
   ],
   "source": [
    "!pip install pandas\n",
    "!pip install torch\n",
    "!pip install torchvision\n",
    "!pip install scikit-learn\n",
    "!pip install matplotlib"
   ]
  },
  {
   "cell_type": "code",
   "execution_count": 1,
   "metadata": {},
   "outputs": [],
   "source": [
    "import pandas as pd\n",
    "import torch\n",
    "import torchvision\n",
    "import torchvision.transforms as transforms\n",
    "from sklearn.utils import shuffle\n",
    "import matplotlib.pyplot as plt\n",
    "from torch.utils.data import Dataset, DataLoader\n",
    "from sklearn.model_selection import train_test_split\n",
    "import torch.nn as nn\n",
    "import torch.nn.functional as F\n",
    "import torch.optim as optim\n",
    "import cv2\n",
    "import os\n",
    "import numpy as np"
   ]
  },
  {
   "cell_type": "code",
   "execution_count": 20,
   "metadata": {},
   "outputs": [
    {
     "data": {
      "text/html": [
       "<div>\n",
       "<style scoped>\n",
       "    .dataframe tbody tr th:only-of-type {\n",
       "        vertical-align: middle;\n",
       "    }\n",
       "\n",
       "    .dataframe tbody tr th {\n",
       "        vertical-align: top;\n",
       "    }\n",
       "\n",
       "    .dataframe thead th {\n",
       "        text-align: right;\n",
       "    }\n",
       "</style>\n",
       "<table border=\"1\" class=\"dataframe\">\n",
       "  <thead>\n",
       "    <tr style=\"text-align: right;\">\n",
       "      <th></th>\n",
       "      <th>pixel1</th>\n",
       "      <th>pixel2</th>\n",
       "      <th>pixel3</th>\n",
       "      <th>pixel4</th>\n",
       "      <th>pixel5</th>\n",
       "      <th>pixel6</th>\n",
       "      <th>pixel7</th>\n",
       "      <th>pixel8</th>\n",
       "      <th>pixel9</th>\n",
       "      <th>pixel10</th>\n",
       "      <th>...</th>\n",
       "      <th>pixel776</th>\n",
       "      <th>pixel777</th>\n",
       "      <th>pixel778</th>\n",
       "      <th>pixel779</th>\n",
       "      <th>pixel780</th>\n",
       "      <th>pixel781</th>\n",
       "      <th>pixel782</th>\n",
       "      <th>pixel783</th>\n",
       "      <th>pixel784</th>\n",
       "      <th>class</th>\n",
       "    </tr>\n",
       "  </thead>\n",
       "  <tbody>\n",
       "    <tr>\n",
       "      <th>0</th>\n",
       "      <td>0.0</td>\n",
       "      <td>0.0</td>\n",
       "      <td>0.0</td>\n",
       "      <td>0.0</td>\n",
       "      <td>0.0</td>\n",
       "      <td>0.0</td>\n",
       "      <td>0.0</td>\n",
       "      <td>0.0</td>\n",
       "      <td>0.0</td>\n",
       "      <td>0.0</td>\n",
       "      <td>...</td>\n",
       "      <td>0.0</td>\n",
       "      <td>0.0</td>\n",
       "      <td>0.0</td>\n",
       "      <td>0.0</td>\n",
       "      <td>0.0</td>\n",
       "      <td>0.0</td>\n",
       "      <td>0.0</td>\n",
       "      <td>0.0</td>\n",
       "      <td>0.0</td>\n",
       "      <td>5.0</td>\n",
       "    </tr>\n",
       "    <tr>\n",
       "      <th>1</th>\n",
       "      <td>0.0</td>\n",
       "      <td>0.0</td>\n",
       "      <td>0.0</td>\n",
       "      <td>0.0</td>\n",
       "      <td>0.0</td>\n",
       "      <td>0.0</td>\n",
       "      <td>0.0</td>\n",
       "      <td>0.0</td>\n",
       "      <td>0.0</td>\n",
       "      <td>0.0</td>\n",
       "      <td>...</td>\n",
       "      <td>0.0</td>\n",
       "      <td>0.0</td>\n",
       "      <td>0.0</td>\n",
       "      <td>0.0</td>\n",
       "      <td>0.0</td>\n",
       "      <td>0.0</td>\n",
       "      <td>0.0</td>\n",
       "      <td>0.0</td>\n",
       "      <td>0.0</td>\n",
       "      <td>0.0</td>\n",
       "    </tr>\n",
       "    <tr>\n",
       "      <th>2</th>\n",
       "      <td>0.0</td>\n",
       "      <td>0.0</td>\n",
       "      <td>0.0</td>\n",
       "      <td>0.0</td>\n",
       "      <td>0.0</td>\n",
       "      <td>0.0</td>\n",
       "      <td>0.0</td>\n",
       "      <td>0.0</td>\n",
       "      <td>0.0</td>\n",
       "      <td>0.0</td>\n",
       "      <td>...</td>\n",
       "      <td>0.0</td>\n",
       "      <td>0.0</td>\n",
       "      <td>0.0</td>\n",
       "      <td>0.0</td>\n",
       "      <td>0.0</td>\n",
       "      <td>0.0</td>\n",
       "      <td>0.0</td>\n",
       "      <td>0.0</td>\n",
       "      <td>0.0</td>\n",
       "      <td>4.0</td>\n",
       "    </tr>\n",
       "    <tr>\n",
       "      <th>3</th>\n",
       "      <td>0.0</td>\n",
       "      <td>0.0</td>\n",
       "      <td>0.0</td>\n",
       "      <td>0.0</td>\n",
       "      <td>0.0</td>\n",
       "      <td>0.0</td>\n",
       "      <td>0.0</td>\n",
       "      <td>0.0</td>\n",
       "      <td>0.0</td>\n",
       "      <td>0.0</td>\n",
       "      <td>...</td>\n",
       "      <td>0.0</td>\n",
       "      <td>0.0</td>\n",
       "      <td>0.0</td>\n",
       "      <td>0.0</td>\n",
       "      <td>0.0</td>\n",
       "      <td>0.0</td>\n",
       "      <td>0.0</td>\n",
       "      <td>0.0</td>\n",
       "      <td>0.0</td>\n",
       "      <td>1.0</td>\n",
       "    </tr>\n",
       "    <tr>\n",
       "      <th>4</th>\n",
       "      <td>0.0</td>\n",
       "      <td>0.0</td>\n",
       "      <td>0.0</td>\n",
       "      <td>0.0</td>\n",
       "      <td>0.0</td>\n",
       "      <td>0.0</td>\n",
       "      <td>0.0</td>\n",
       "      <td>0.0</td>\n",
       "      <td>0.0</td>\n",
       "      <td>0.0</td>\n",
       "      <td>...</td>\n",
       "      <td>0.0</td>\n",
       "      <td>0.0</td>\n",
       "      <td>0.0</td>\n",
       "      <td>0.0</td>\n",
       "      <td>0.0</td>\n",
       "      <td>0.0</td>\n",
       "      <td>0.0</td>\n",
       "      <td>0.0</td>\n",
       "      <td>0.0</td>\n",
       "      <td>9.0</td>\n",
       "    </tr>\n",
       "  </tbody>\n",
       "</table>\n",
       "<p>5 rows × 785 columns</p>\n",
       "</div>"
      ],
      "text/plain": [
       "   pixel1  pixel2  pixel3  pixel4  pixel5  pixel6  pixel7  pixel8  pixel9  \\\n",
       "0     0.0     0.0     0.0     0.0     0.0     0.0     0.0     0.0     0.0   \n",
       "1     0.0     0.0     0.0     0.0     0.0     0.0     0.0     0.0     0.0   \n",
       "2     0.0     0.0     0.0     0.0     0.0     0.0     0.0     0.0     0.0   \n",
       "3     0.0     0.0     0.0     0.0     0.0     0.0     0.0     0.0     0.0   \n",
       "4     0.0     0.0     0.0     0.0     0.0     0.0     0.0     0.0     0.0   \n",
       "\n",
       "   pixel10  ...  pixel776  pixel777  pixel778  pixel779  pixel780  pixel781  \\\n",
       "0      0.0  ...       0.0       0.0       0.0       0.0       0.0       0.0   \n",
       "1      0.0  ...       0.0       0.0       0.0       0.0       0.0       0.0   \n",
       "2      0.0  ...       0.0       0.0       0.0       0.0       0.0       0.0   \n",
       "3      0.0  ...       0.0       0.0       0.0       0.0       0.0       0.0   \n",
       "4      0.0  ...       0.0       0.0       0.0       0.0       0.0       0.0   \n",
       "\n",
       "   pixel782  pixel783  pixel784  class  \n",
       "0       0.0       0.0       0.0    5.0  \n",
       "1       0.0       0.0       0.0    0.0  \n",
       "2       0.0       0.0       0.0    4.0  \n",
       "3       0.0       0.0       0.0    1.0  \n",
       "4       0.0       0.0       0.0    9.0  \n",
       "\n",
       "[5 rows x 785 columns]"
      ]
     },
     "execution_count": 20,
     "metadata": {},
     "output_type": "execute_result"
    }
   ],
   "source": [
    "# Import the dataset \n",
    "\n",
    "df = pd.read_csv('/Users/marlon/Desktop/sem/vs/vs_proj/VCS_Project/digit_char_dataset.csv').astype('float32')\n",
    "\n",
    "df.head()\n",
    "\n",
    "# Notice that A-Z is represented by 10-35 and 0-9 is represented by 0-9"
   ]
  },
  {
   "cell_type": "code",
   "execution_count": 21,
   "metadata": {},
   "outputs": [],
   "source": [
    "# Define the features and the target\n",
    "X = df.drop('class',axis = 1)\n",
    "y = df['class']"
   ]
  },
  {
   "cell_type": "code",
   "execution_count": 55,
   "metadata": {},
   "outputs": [
    {
     "ename": "AssertionError",
     "evalue": "The pixels are not normalized",
     "output_type": "error",
     "traceback": [
      "\u001b[0;31m---------------------------------------------------------------------------\u001b[0m",
      "\u001b[0;31mAssertionError\u001b[0m                            Traceback (most recent call last)",
      "Cell \u001b[0;32mIn[55], line 2\u001b[0m\n\u001b[1;32m      1\u001b[0m \u001b[38;5;66;03m# First check if the pixels are already normalized\u001b[39;00m\n\u001b[0;32m----> 2\u001b[0m \u001b[38;5;28;01massert\u001b[39;00m X\u001b[38;5;241m.\u001b[39miloc[\u001b[38;5;241m1\u001b[39m,:]\u001b[38;5;241m.\u001b[39mmax() \u001b[38;5;241m<\u001b[39m\u001b[38;5;241m=\u001b[39m \u001b[38;5;241m1\u001b[39m, \u001b[38;5;124m\"\u001b[39m\u001b[38;5;124mThe pixels are not normalized\u001b[39m\u001b[38;5;124m\"\u001b[39m\n",
      "\u001b[0;31mAssertionError\u001b[0m: The pixels are not normalized"
     ]
    }
   ],
   "source": [
    "# First check if the pixels are already normalized\n",
    "assert X.iloc[1,:].max() <= 1, \"The pixels are not normalized\""
   ]
  },
  {
   "cell_type": "code",
   "execution_count": 35,
   "metadata": {},
   "outputs": [
    {
     "data": {
      "image/png": "[encoded data removed]",
      "text/plain": [
       "<Figure size 1200x1000 with 16 Axes>"
      ]
     },
     "metadata": {},
     "output_type": "display_data"
    }
   ],
   "source": [
    "# Plot some examples\n",
    "X_shuffle = shuffle(X)\n",
    "\n",
    "plt.figure(figsize = (12,10))\n",
    "row, colums = 4, 4\n",
    "for i in range(16):  \n",
    "    plt.subplot(colums, row, i+1)\n",
    "    plt.imshow(X_shuffle.iloc[i].values.reshape(28,28),interpolation='nearest', cmap='Greys')\n",
    "plt.show()"
   ]
  },
  {
   "cell_type": "code",
   "execution_count": 41,
   "metadata": {},
   "outputs": [
    {
     "name": "stdout",
     "output_type": "stream",
     "text": [
      "Our data has shape torch.Size([442450, 1, 28, 28]) and the labels have shape torch.Size([442450])\n"
     ]
    }
   ],
   "source": [
    "# Convert to tensors\n",
    "X = torch.tensor(X.values)\n",
    "# Reshape the data to (n_samples, height,width) (channels = 1 since we have only black and white images)\n",
    "X = X.reshape(-1,1, 28, 28)\n",
    "y = torch.tensor(y.values).type(torch.long) # labels are integers\n",
    "\n",
    "print(f\"Our data has shape {X.shape} and the labels have shape {y.shape}\")"
   ]
  },
  {
   "cell_type": "code",
   "execution_count": 42,
   "metadata": {},
   "outputs": [],
   "source": [
    "# Split the data into train,validation and test \n",
    "\n",
    "\n",
    "X_train, X_test, y_train, y_test = train_test_split(X, y, test_size=0.2, random_state=42)\n",
    "X_train, X_val, y_train, y_val = train_test_split(X_train, y_train, test_size=0.2, random_state=42)\n"
   ]
  },
  {
   "cell_type": "code",
   "execution_count": 43,
   "metadata": {},
   "outputs": [],
   "source": [
    "# Create PyTorch dataset\n",
    "class CharactersDataset(Dataset):\n",
    "    def __init__(self, data, labels, transform=None, target_transform=None):\n",
    "        self.data = data\n",
    "        self.labels = labels\n",
    "        self.transform = transform\n",
    "        self.target_transform = target_transform\n",
    "\n",
    "    def __len__(self):\n",
    "        return len(self.labels)\n",
    "\n",
    "    def __getitem__(self, idx):\n",
    "        image = self.data[idx, :,:]\n",
    "        label = self.labels[idx]\n",
    "        if self.transform:\n",
    "            image = self.transform(image)\n",
    "        if self.target_transform:\n",
    "            label = self.target_transform(label)\n",
    "        return image, label\n",
    "\n"
   ]
  },
  {
   "cell_type": "code",
   "execution_count": 44,
   "metadata": {},
   "outputs": [],
   "source": [
    "# Define the transformations (normalization)\n",
    "transform =  transforms.Normalize(mean=(0.5), std=(0.5)) # Normalize the pixels to [-1, 1]"
   ]
  },
  {
   "cell_type": "code",
   "execution_count": 45,
   "metadata": {},
   "outputs": [],
   "source": [
    "# Create the dataset\n",
    "dataset_train = CharactersDataset(X_train, y_train, transform=transform)\n",
    "dataset_val = CharactersDataset(X_val, y_val, transform=transform)\n",
    "dataset_test = CharactersDataset(X_test, y_test, transform=transform)\n"
   ]
  },
  {
   "cell_type": "code",
   "execution_count": 46,
   "metadata": {},
   "outputs": [],
   "source": [
    "dataloader_train = DataLoader(dataset_train, batch_size=64, shuffle=True)\n",
    "dataloader_val = DataLoader(dataset_val, batch_size=64, shuffle=True)\n",
    "dataloader_test = DataLoader(dataset_test, batch_size=64, shuffle=True)"
   ]
  },
  {
   "cell_type": "code",
   "execution_count": 51,
   "metadata": {},
   "outputs": [
    {
     "name": "stdout",
     "output_type": "stream",
     "text": [
      "Feature batch shape: torch.Size([64, 1, 28, 28])\n",
      "Labels batch shape: torch.Size([64])\n"
     ]
    },
    {
     "data": {
      "image/png": "[encoded data removed]",
      "text/plain": [
       "<Figure size 640x480 with 1 Axes>"
      ]
     },
     "metadata": {},
     "output_type": "display_data"
    },
    {
     "name": "stdout",
     "output_type": "stream",
     "text": [
      "Label: 14\n"
     ]
    }
   ],
   "source": [
    "train_features, train_labels = next(iter(dataloader_train))\n",
    "print(f\"Feature batch shape: {train_features.size()}\")\n",
    "print(f\"Labels batch shape: {train_labels.size()}\")\n",
    "img = train_features[0].squeeze()\n",
    "label = train_labels[0]\n",
    "plt.imshow(img, cmap=\"gray\")\n",
    "plt.show()\n",
    "print(f\"Label: {label}\")"
   ]
  },
  {
   "cell_type": "code",
   "execution_count": 4,
   "metadata": {},
   "outputs": [],
   "source": [
    "# Define the actual CNN network \n",
    "# We will use 3 convolutional layers, 1 pooling layer and 2 fully connected layers\n",
    "\n",
    "class Net(nn.Module):\n",
    "    def __init__(self):\n",
    "        super().__init__()\n",
    "        self.conv1 = nn.Conv2d(1, 6, 3)\n",
    "        self.pool = nn.MaxPool2d(2, 2)\n",
    "        self.conv2 = nn.Conv2d(6, 16, 5)\n",
    "        self.fc1 = nn.Linear(16 * 4 * 4, 128)\n",
    "        self.fc2 = nn.Linear(128, 64)\n",
    "        self.fc3 = nn.Linear(64, 36) # 36 classes\n",
    "\n",
    "    def forward(self, x):\n",
    "        x = self.pool(F.relu(self.conv1(x)))\n",
    "        x = self.pool(F.relu(self.conv2(x)))\n",
    "        x = torch.flatten(x, 1) # flatten all dimensions except batch\n",
    "        x = F.relu(self.fc1(x))\n",
    "        x = F.relu(self.fc2(x))\n",
    "        x = self.fc3(x)\n",
    "        return x"
   ]
  },
  {
   "cell_type": "code",
   "execution_count": 122,
   "metadata": {},
   "outputs": [],
   "source": [
    "net = Net()"
   ]
  },
  {
   "cell_type": "code",
   "execution_count": 123,
   "metadata": {},
   "outputs": [],
   "source": [
    "criterion = nn.CrossEntropyLoss()\n",
    "optimizer = optim.SGD(net.parameters(), lr=0.001, momentum=0.9)"
   ]
  },
  {
   "cell_type": "code",
   "execution_count": 124,
   "metadata": {},
   "outputs": [
    {
     "name": "stdout",
     "output_type": "stream",
     "text": [
      "[1,  2000] training loss: 0.457\n",
      "[1,  4000] training loss: 0.198\n",
      "Epoch 1 Validation Loss: 0.168, Accuracy: 95.06%\n",
      "[2,  2000] training loss: 0.154\n",
      "[2,  4000] training loss: 0.145\n",
      "Epoch 2 Validation Loss: 0.147, Accuracy: 95.75%\n",
      "[3,  2000] training loss: 0.126\n",
      "[3,  4000] training loss: 0.120\n",
      "Epoch 3 Validation Loss: 0.125, Accuracy: 96.39%\n",
      "[4,  2000] training loss: 0.106\n",
      "[4,  4000] training loss: 0.108\n",
      "Epoch 4 Validation Loss: 0.117, Accuracy: 96.67%\n",
      "[5,  2000] training loss: 0.095\n",
      "[5,  4000] training loss: 0.099\n",
      "Epoch 5 Validation Loss: 0.112, Accuracy: 96.76%\n",
      "[6,  2000] training loss: 0.090\n",
      "[6,  4000] training loss: 0.090\n",
      "Epoch 6 Validation Loss: 0.106, Accuracy: 96.89%\n",
      "[7,  2000] training loss: 0.082\n",
      "[7,  4000] training loss: 0.084\n",
      "Epoch 7 Validation Loss: 0.109, Accuracy: 96.94%\n",
      "[8,  2000] training loss: 0.076\n",
      "[8,  4000] training loss: 0.080\n",
      "Epoch 8 Validation Loss: 0.109, Accuracy: 96.92%\n",
      "[9,  2000] training loss: 0.073\n",
      "[9,  4000] training loss: 0.076\n",
      "Epoch 9 Validation Loss: 0.100, Accuracy: 97.14%\n",
      "[10,  2000] training loss: 0.069\n",
      "[10,  4000] training loss: 0.073\n",
      "Epoch 10 Validation Loss: 0.100, Accuracy: 97.21%\n",
      "Finished Training\n"
     ]
    }
   ],
   "source": [
    "# Set model to train mode at the start of training\n",
    "net.train()\n",
    "\n",
    "for epoch in range(10):  # loop over the dataset multiple times\n",
    "    # Training phase\n",
    "    running_loss = 0.0\n",
    "    for i, data in enumerate(dataloader_train, 0):\n",
    "        # get the inputs; data is a list of [inputs, labels]\n",
    "        inputs, labels = data\n",
    "\n",
    "        # zero the parameter gradients\n",
    "        optimizer.zero_grad()\n",
    "\n",
    "        # forward + backward + optimize\n",
    "        outputs = net(inputs)\n",
    "        loss = criterion(outputs, labels)\n",
    "        loss.backward()\n",
    "        optimizer.step()\n",
    "\n",
    "        # print statistics\n",
    "        running_loss += loss.item()\n",
    "        if i % 2000 == 1999:    # print every 2000 mini-batches\n",
    "            print(f'[{epoch + 1}, {i + 1:5d}] training loss: {running_loss / 2000:.3f}')\n",
    "            running_loss = 0.0\n",
    "\n",
    "    # Validation phase\n",
    "    net.eval()  # Set the model to evaluation mode\n",
    "    val_loss = 0.0\n",
    "    correct = 0\n",
    "    total = 0\n",
    "    \n",
    "    with torch.no_grad():  # Disable gradient computation\n",
    "        for data in dataloader_val:\n",
    "            inputs, labels = data\n",
    "            outputs = net(inputs)\n",
    "            loss = criterion(outputs, labels)\n",
    "            \n",
    "            val_loss += loss.item()\n",
    "            _, predicted = torch.max(outputs.data, 1)\n",
    "            total += labels.size(0)\n",
    "            correct += (predicted == labels).sum().item()\n",
    "    \n",
    "    avg_val_loss = val_loss / len(dataloader_val)\n",
    "    accuracy = 100 * correct / total\n",
    "    print(f'Epoch {epoch + 1} Validation Loss: {avg_val_loss:.3f}, Accuracy: {accuracy:.2f}%')\n",
    "    \n",
    "    net.train()  # Set the model back to training mode\n",
    "\n",
    "print('Finished Training')"
   ]
  },
  {
   "cell_type": "code",
   "execution_count": 125,
   "metadata": {},
   "outputs": [],
   "source": [
    "PATH = '/Users/marlon/Desktop/sem/vs/vs_proj/VCS_Project/character_classification_CNN_model/network.pth'\n",
    "torch.save(net.state_dict(), PATH)"
   ]
  },
  {
   "cell_type": "code",
   "execution_count": 126,
   "metadata": {},
   "outputs": [
    {
     "name": "stdout",
     "output_type": "stream",
     "text": [
      "Accuracy of the network on the test images: 97 %\n"
     ]
    }
   ],
   "source": [
    "correct = 0\n",
    "total = 0\n",
    "# since we're not training, we don't need to calculate the gradients for our outputs\n",
    "with torch.no_grad():\n",
    "    for data in dataloader_test:\n",
    "        images, labels = data\n",
    "        # calculate outputs by running images through the network\n",
    "        outputs = net(images)\n",
    "        # the class with the highest energy is what we choose as prediction\n",
    "        _, predicted = torch.max(outputs, 1)\n",
    "        total += labels.size(0)\n",
    "        correct += (predicted == labels).sum().item()\n",
    "\n",
    "print(f'Accuracy of the network on the test images: {100 * correct // total} %')"
   ]
  },
  {
   "cell_type": "code",
   "execution_count": 127,
   "metadata": {},
   "outputs": [
    {
     "name": "stdout",
     "output_type": "stream",
     "text": [
      "Accuracy for class: 0 is 71.4 %\n",
      "Accuracy for class: 1 is 98.1 %\n",
      "Accuracy for class: 2 is 90.9 %\n",
      "Accuracy for class: 3 is 97.4 %\n",
      "Accuracy for class: 4 is 95.8 %\n",
      "Accuracy for class: 5 is 91.1 %\n",
      "Accuracy for class: 6 is 98.0 %\n",
      "Accuracy for class: 7 is 99.4 %\n",
      "Accuracy for class: 8 is 93.6 %\n",
      "Accuracy for class: 9 is 94.7 %\n",
      "Accuracy for class: A is 98.9 %\n",
      "Accuracy for class: B is 96.7 %\n",
      "Accuracy for class: C is 98.9 %\n",
      "Accuracy for class: D is 95.1 %\n",
      "Accuracy for class: E is 99.0 %\n",
      "Accuracy for class: F is 93.6 %\n",
      "Accuracy for class: G is 94.5 %\n",
      "Accuracy for class: H is 94.8 %\n",
      "Accuracy for class: I is 97.3 %\n",
      "Accuracy for class: J is 97.6 %\n",
      "Accuracy for class: K is 97.1 %\n",
      "Accuracy for class: L is 98.0 %\n",
      "Accuracy for class: M is 97.4 %\n",
      "Accuracy for class: N is 99.3 %\n",
      "Accuracy for class: O is 97.9 %\n",
      "Accuracy for class: P is 98.5 %\n",
      "Accuracy for class: Q is 95.5 %\n",
      "Accuracy for class: R is 96.4 %\n",
      "Accuracy for class: S is 99.0 %\n",
      "Accuracy for class: T is 99.3 %\n",
      "Accuracy for class: U is 97.5 %\n",
      "Accuracy for class: V is 98.2 %\n",
      "Accuracy for class: W is 96.5 %\n",
      "Accuracy for class: X is 99.1 %\n",
      "Accuracy for class: Y is 94.8 %\n",
      "Accuracy for class: Z is 96.8 %\n"
     ]
    }
   ],
   "source": [
    "# prepare to count predictions for each class\n",
    "\n",
    "# Classes range from 0 to 35\n",
    "classes = list(range(36))\n",
    "\n",
    "# Replace numbers 10-35 with A-Z\n",
    "classes = [str(i) if i < 10 else chr(i+55) for i in classes]\n",
    "\n",
    "correct_pred = {classname: 0 for classname in classes}\n",
    "total_pred = {classname: 0 for classname in classes}\n",
    "\n",
    "# again no gradients needed\n",
    "with torch.no_grad():\n",
    "    for data in dataloader_test:\n",
    "        images, labels = data\n",
    "        outputs = net(images)\n",
    "        _, predictions = torch.max(outputs, 1)\n",
    "        # collect the correct predictions for each class\n",
    "        for label, prediction in zip(labels, predictions):\n",
    "            if label == prediction:\n",
    "                correct_pred[classes[label]] += 1\n",
    "            total_pred[classes[label]] += 1\n",
    "\n",
    "\n",
    "# print accuracy for each class\n",
    "for classname, correct_count in correct_pred.items():\n",
    "    accuracy = 100 * float(correct_count) / total_pred[classname]\n",
    "    print(f'Accuracy for class: {classname} is {accuracy:.1f} %')\n",
    "\n",
    "# We see that class 0 (i.e. digit 0) has the biggest problems"
   ]
  },
  {
   "cell_type": "code",
   "execution_count": 38,
   "metadata": {},
   "outputs": [],
   "source": [
    "# Prepare characters from license plates for prediction\n",
    "\n",
    "def prepare_input(img_path):\n",
    "    #https://en.wikipedia.org/wiki/MNIST_database\n",
    "    #The original dataset from MNIST contained 128x128 binary images.\n",
    "    #Each was size-normalized to fit in a 20x20 pixel box while preserving their aspect ratio, and anti-aliased to grayscale. \n",
    "    # Then it was put into a 28x28 image by translating it until the center of mass of the pixels is in the center of the image\n",
    "    # TODO : MIST white digits black background or reversed ?? \n",
    "    \"\"\" Prepare images following the exact MNIST preparation process \"\"\"\n",
    "    counter = 0\n",
    "    all_imgs = []\n",
    "    for img in os.listdir(FOLDER_PATH):\n",
    "        img_path = os.path.join(FOLDER_PATH, img)\n",
    "        img = cv2.imread(img_path, cv2.IMREAD_GRAYSCALE)\n",
    "        \n",
    "        # 0. First resize to 128x128 to match original MNIST process\n",
    "        img = cv2.resize(img, (128, 128))\n",
    "        \n",
    "        # 1. Invert black & white (ensure digits are white on black background)\n",
    "    #    img = cv2.bitwise_not(img)\n",
    "        \n",
    "        # 2. Apply anti-aliasing (important MNIST preprocessing step)\n",
    "        img = cv2.GaussianBlur(img, (3,3), 0)\n",
    "        \n",
    "        # 3. Fit into 20x20 box while preserving aspect ratio\n",
    "        height, width = img.shape\n",
    "        aspect_ratio = width / height\n",
    "        \n",
    "        if aspect_ratio > 1:\n",
    "            # Width is larger, scale to 20 width\n",
    "            new_width = 20\n",
    "            new_height = int(20 / aspect_ratio)\n",
    "        else:\n",
    "            # Height is larger, scale to 20 height\n",
    "            new_height = 20\n",
    "            new_width = int(20 * aspect_ratio)\n",
    "            \n",
    "        img = cv2.resize(img, (new_width, new_height))\n",
    "        \n",
    "        # 4. Create 28x28 black canvas (MNIST uses white digits on black background)\n",
    "        canvas = np.zeros((28, 28), dtype=np.uint8)\n",
    "        canvas.fill(0) # 255\n",
    "        \n",
    "        # 5. Calculate position to paste the 20x20 image\n",
    "        x_offset = (28 - new_width) // 2\n",
    "        y_offset = (28 - new_height) // 2\n",
    "        \n",
    "        # 6. Place the image in the center of the canvas\n",
    "        canvas[y_offset:y_offset+new_height, x_offset:x_offset+new_width] = img\n",
    "        \n",
    "        # 7. Center using center of mass\n",
    "        M = cv2.moments(canvas)\n",
    "        if M[\"m00\"] != 0:\n",
    "            cX = int(M[\"m10\"] / M[\"m00\"])\n",
    "            cY = int(M[\"m01\"] / M[\"m00\"])\n",
    "        else:\n",
    "            cX, cY = 14, 14  # Half of 28\n",
    "\n",
    "        # Calculate the shift needed\n",
    "        deltaX = 14 - cX  \n",
    "        deltaY = 14 - cY\n",
    "        \n",
    "        # Create translation matrix\n",
    "        T = np.float32([[1, 0, deltaX], [0, 1, deltaY]])\n",
    "        \n",
    "        # Apply translation (use black borderValue since MNIST uses white background)\n",
    "        img = cv2.warpAffine(canvas, T, (28, 28), borderValue=0) # 255\n",
    "        \n",
    "        # 8. Normalize pixel values to [0, 1] before saving\n",
    "        img = img.astype(np.float32) / 255.0\n",
    "        \n",
    "        # Save normalized image (multiply by 255 and convert to uint8 for saving)\n",
    "        save_img = (img * 255).astype(np.uint8)\n",
    "        cv2.imwrite(f'/Users/marlon/Desktop/sem/vs/vs_proj/VCS_Project/results/license_plates/prepared_for_CNN/license_plate.1/character_{counter}.png', save_img)\n",
    "        counter += 1\n",
    "        all_imgs.append(img)  # append the normalized [0,1] version\n",
    "    \n",
    "    # Convert to tensor (no need to divide by 255 since we already normalized)\n",
    "    all_imgs = torch.tensor(all_imgs).type(torch.float32)\n",
    "    all_imgs = all_imgs.reshape(-1, 1, 28, 28)\n",
    "    \n",
    "    # Normalize to [-1, 1]\n",
    "    all_imgs = transforms.Normalize(mean=(0.5,), std=(0.5,))(all_imgs)\n",
    "    \n",
    "    return all_imgs\n",
    "\n",
    "\n",
    "\n",
    "\n"
   ]
  },
  {
   "cell_type": "code",
   "execution_count": 39,
   "metadata": {},
   "outputs": [
    {
     "name": "stdout",
     "output_type": "stream",
     "text": [
      "The shape of the characters is torch.Size([7, 1, 28, 28])\n",
      "tensor([11, 10, 33,  5, 10, 11,  5])\n",
      "Predicted: B\n"
     ]
    },
    {
     "data": {
      "image/png": "[encoded data removed]",
      "text/plain": [
       "<Figure size 640x480 with 1 Axes>"
      ]
     },
     "metadata": {},
     "output_type": "display_data"
    },
    {
     "name": "stdout",
     "output_type": "stream",
     "text": [
      "Predicted: A\n"
     ]
    },
    {
     "data": {
      "image/png": "[encoded data removed]",
      "text/plain": [
       "<Figure size 640x480 with 1 Axes>"
      ]
     },
     "metadata": {},
     "output_type": "display_data"
    },
    {
     "name": "stdout",
     "output_type": "stream",
     "text": [
      "Predicted: X\n"
     ]
    },
    {
     "data": {
      "image/png": "[encoded data removed]",
      "text/plain": [
       "<Figure size 640x480 with 1 Axes>"
      ]
     },
     "metadata": {},
     "output_type": "display_data"
    },
    {
     "name": "stdout",
     "output_type": "stream",
     "text": [
      "Predicted: 5\n"
     ]
    },
    {
     "data": {
      "image/png": "[encoded data removed]",
      "text/plain": [
       "<Figure size 640x480 with 1 Axes>"
      ]
     },
     "metadata": {},
     "output_type": "display_data"
    },
    {
     "name": "stdout",
     "output_type": "stream",
     "text": [
      "Predicted: A\n"
     ]
    },
    {
     "data": {
      "image/png": "[encoded data removed]",
      "text/plain": [
       "<Figure size 640x480 with 1 Axes>"
      ]
     },
     "metadata": {},
     "output_type": "display_data"
    },
    {
     "name": "stdout",
     "output_type": "stream",
     "text": [
      "Predicted: B\n"
     ]
    },
    {
     "data": {
      "image/png": "[encoded data removed]",
      "text/plain": [
       "<Figure size 640x480 with 1 Axes>"
      ]
     },
     "metadata": {},
     "output_type": "display_data"
    },
    {
     "name": "stdout",
     "output_type": "stream",
     "text": [
      "Predicted: 5\n"
     ]
    },
    {
     "data": {
      "image/png": "[encoded data removed]",
      "text/plain": [
       "<Figure size 640x480 with 1 Axes>"
      ]
     },
     "metadata": {},
     "output_type": "display_data"
    }
   ],
   "source": [
    "# path where segmented characters are stored\n",
    "FOLDER_PATH = '/Users/marlon/Desktop/sem/vs/vs_proj/VCS_Project/results/license_plates/segmented_plate.1'\n",
    "MODEL_PATH = '/Users/marlon/Desktop/sem/vs/vs_proj/VCS_Project/character_classification_CNN_model/network.pth'\n",
    "\n",
    "# Get the prepared input of characters\n",
    "characters = prepare_input(FOLDER_PATH)\n",
    "\n",
    "print(f'The shape of the characters is {characters.shape}')\n",
    "\n",
    "# Load the model\n",
    "net = Net()\n",
    "net.load_state_dict(torch.load(MODEL_PATH, weights_only=True))\n",
    "\n",
    "# Make predictions\n",
    "net.eval()\n",
    "with torch.no_grad():\n",
    "    predictions = net(characters)\n",
    "    _, predicted = torch.max(predictions, 1)\n",
    "\n",
    "print(predicted)\n",
    "\n",
    "# Print predictions and show the original images\n",
    "for i in range(len(characters)):\n",
    "    predicted_class = predicted[i] if predicted[i] < 10 else chr(predicted[i] + 55)\n",
    "    print(f'Predicted: {predicted_class}')\n",
    "    plt.imshow(characters[i].squeeze(), cmap='gray')\n",
    "    plt.show()\n",
    "\n",
    "\n",
    "# TODO : when we don't invert colours (i.e black background, white front) we get better results, but MNIST is black letter, white background, so unsure what goes wrong....\n",
    "\n",
    "# TODO :\n",
    "\n",
    "#https://stackoverflow.com/questions/27925358/pre-processing-before-digit-recognition-for-nn-cnn-trained-with-mnist-dataset \n",
    "# 1. preprocess MNIST pictures again somehow so we can match them closer to our actual inputs\n",
    "# Create a larger dataset with license plate characters, but will be hard since the MNIST + A-Z dataset is huge ... \n"
   ]
  }
 ],
 "metadata": {
  "kernelspec": {
   "display_name": "vs_project_ve",
   "language": "python",
   "name": "python3"
  },
  "language_info": {
   "codemirror_mode": {
    "name": "ipython",
    "version": 3
   },
   "file_extension": ".py",
   "mimetype": "text/x-python",
   "name": "python",
   "nbconvert_exporter": "python",
   "pygments_lexer": "ipython3",
   "version": "3.9.21"
  }
 },
 "nbformat": 4,
 "nbformat_minor": 2
}
